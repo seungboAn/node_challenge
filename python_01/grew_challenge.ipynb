{
 "cells": [
  {
   "cell_type": "code",
   "execution_count": null,
   "metadata": {
    "vscode": {
     "languageId": "plaintext"
    }
   },
   "outputs": [],
   "source": [
    "# Hello World를 출력하세요.\n",
    "# 여기에 코드를 작성해주세요.\n",
    "print(\"Hello World\")"
   ]
  },
  {
   "cell_type": "code",
   "execution_count": null,
   "metadata": {
    "vscode": {
     "languageId": "plaintext"
    }
   },
   "outputs": [],
   "source": [
    "# 문제: 5는 3보다 크다.\n",
    "print(5 > 3)  \n",
    "\n",
    "# 문제: 2는 4보다 작거나 같다.\n",
    "print(2 <= 4) \n",
    "\n",
    "# 문제: \"apple\"은 \"banana\"보다 크다.\n",
    "print(\"apple\" > \"banana\") "
   ]
  }
 ],
 "metadata": {
  "language_info": {
   "name": "python"
  }
 },
 "nbformat": 4,
 "nbformat_minor": 2
}
